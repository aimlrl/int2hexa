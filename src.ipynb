{
 "cells": [
  {
   "cell_type": "code",
   "execution_count": 2,
   "metadata": {},
   "outputs": [],
   "source": [
    "def is_prime(num,divisor):\n",
    "\n",
    "    if num == 1 or num == 2 or divisor == num:\n",
    "\n",
    "        return True\n",
    "    \n",
    "    if num % divisor == 0:\n",
    "\n",
    "        return False\n",
    "    \n",
    "    result = is_prime(num,divisor+1)\n",
    "    \n",
    "    return result "
   ]
  },
  {
   "cell_type": "code",
   "execution_count": 3,
   "metadata": {},
   "outputs": [],
   "source": [
    "def prime_palindrome(num):\n",
    "\n",
    "    num_str = str(num)\n",
    "    divisor = 2\n",
    "\n",
    "    if num_str == num_str[::-1]:\n",
    "\n",
    "        result = is_prime(num, divisor)\n",
    "\n",
    "        return result\n",
    "    \n",
    "    else:\n",
    "\n",
    "        return False"
   ]
  },
  {
   "cell_type": "code",
   "execution_count": 5,
   "metadata": {},
   "outputs": [
    {
     "data": {
      "text/plain": [
       "True"
      ]
     },
     "execution_count": 5,
     "metadata": {},
     "output_type": "execute_result"
    }
   ],
   "source": [
    "prime_palindrome(131)"
   ]
  },
  {
   "cell_type": "code",
   "execution_count": null,
   "metadata": {},
   "outputs": [],
   "source": []
  }
 ],
 "metadata": {
  "kernelspec": {
   "display_name": "Python 3",
   "language": "python",
   "name": "python3"
  },
  "language_info": {
   "codemirror_mode": {
    "name": "ipython",
    "version": 3
   },
   "file_extension": ".py",
   "mimetype": "text/x-python",
   "name": "python",
   "nbconvert_exporter": "python",
   "pygments_lexer": "ipython3",
   "version": "3.10.12"
  }
 },
 "nbformat": 4,
 "nbformat_minor": 2
}
